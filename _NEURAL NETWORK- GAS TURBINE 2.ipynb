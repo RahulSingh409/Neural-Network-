{
 "cells": [
  {
   "cell_type": "code",
   "execution_count": 1,
   "id": "7db068f7",
   "metadata": {
    "ExecuteTime": {
     "end_time": "2022-03-03T07:00:24.700814Z",
     "start_time": "2022-03-03T07:00:21.029031Z"
    }
   },
   "outputs": [],
   "source": [
    "import pandas as pd\n",
    "import numpy as np\n",
    "import matplotlib.pyplot as plt\n",
    "from tensorflow import keras\n",
    "from keras.models import Sequential\n",
    "from keras.layers import Dense\n",
    "from keras.layers import Dropout\n",
    "import seaborn as sns"
   ]
  },
  {
   "cell_type": "code",
   "execution_count": 5,
   "id": "7b612e76",
   "metadata": {
    "ExecuteTime": {
     "end_time": "2022-03-03T07:01:53.909632Z",
     "start_time": "2022-03-03T07:01:53.648921Z"
    }
   },
   "outputs": [
    {
     "data": {
      "text/html": [
       "<div>\n",
       "<style scoped>\n",
       "    .dataframe tbody tr th:only-of-type {\n",
       "        vertical-align: middle;\n",
       "    }\n",
       "\n",
       "    .dataframe tbody tr th {\n",
       "        vertical-align: top;\n",
       "    }\n",
       "\n",
       "    .dataframe thead th {\n",
       "        text-align: right;\n",
       "    }\n",
       "</style>\n",
       "<table border=\"1\" class=\"dataframe\">\n",
       "  <thead>\n",
       "    <tr style=\"text-align: right;\">\n",
       "      <th></th>\n",
       "      <th>AT</th>\n",
       "      <th>AP</th>\n",
       "      <th>AH</th>\n",
       "      <th>AFDP</th>\n",
       "      <th>GTEP</th>\n",
       "      <th>TIT</th>\n",
       "      <th>TAT</th>\n",
       "      <th>TEY</th>\n",
       "      <th>CDP</th>\n",
       "      <th>CO</th>\n",
       "      <th>NOX</th>\n",
       "    </tr>\n",
       "  </thead>\n",
       "  <tbody>\n",
       "    <tr>\n",
       "      <th>0</th>\n",
       "      <td>6.8594</td>\n",
       "      <td>1007.9</td>\n",
       "      <td>96.799</td>\n",
       "      <td>3.5000</td>\n",
       "      <td>19.663</td>\n",
       "      <td>1059.2</td>\n",
       "      <td>550.00</td>\n",
       "      <td>114.70</td>\n",
       "      <td>10.605</td>\n",
       "      <td>3.1547</td>\n",
       "      <td>82.722</td>\n",
       "    </tr>\n",
       "    <tr>\n",
       "      <th>1</th>\n",
       "      <td>6.7850</td>\n",
       "      <td>1008.4</td>\n",
       "      <td>97.118</td>\n",
       "      <td>3.4998</td>\n",
       "      <td>19.728</td>\n",
       "      <td>1059.3</td>\n",
       "      <td>550.00</td>\n",
       "      <td>114.72</td>\n",
       "      <td>10.598</td>\n",
       "      <td>3.2363</td>\n",
       "      <td>82.776</td>\n",
       "    </tr>\n",
       "    <tr>\n",
       "      <th>2</th>\n",
       "      <td>6.8977</td>\n",
       "      <td>1008.8</td>\n",
       "      <td>95.939</td>\n",
       "      <td>3.4824</td>\n",
       "      <td>19.779</td>\n",
       "      <td>1059.4</td>\n",
       "      <td>549.87</td>\n",
       "      <td>114.71</td>\n",
       "      <td>10.601</td>\n",
       "      <td>3.2012</td>\n",
       "      <td>82.468</td>\n",
       "    </tr>\n",
       "    <tr>\n",
       "      <th>3</th>\n",
       "      <td>7.0569</td>\n",
       "      <td>1009.2</td>\n",
       "      <td>95.249</td>\n",
       "      <td>3.4805</td>\n",
       "      <td>19.792</td>\n",
       "      <td>1059.6</td>\n",
       "      <td>549.99</td>\n",
       "      <td>114.72</td>\n",
       "      <td>10.606</td>\n",
       "      <td>3.1923</td>\n",
       "      <td>82.670</td>\n",
       "    </tr>\n",
       "    <tr>\n",
       "      <th>4</th>\n",
       "      <td>7.3978</td>\n",
       "      <td>1009.7</td>\n",
       "      <td>95.150</td>\n",
       "      <td>3.4976</td>\n",
       "      <td>19.765</td>\n",
       "      <td>1059.7</td>\n",
       "      <td>549.98</td>\n",
       "      <td>114.72</td>\n",
       "      <td>10.612</td>\n",
       "      <td>3.2484</td>\n",
       "      <td>82.311</td>\n",
       "    </tr>\n",
       "  </tbody>\n",
       "</table>\n",
       "</div>"
      ],
      "text/plain": [
       "       AT      AP      AH    AFDP    GTEP     TIT     TAT     TEY     CDP  \\\n",
       "0  6.8594  1007.9  96.799  3.5000  19.663  1059.2  550.00  114.70  10.605   \n",
       "1  6.7850  1008.4  97.118  3.4998  19.728  1059.3  550.00  114.72  10.598   \n",
       "2  6.8977  1008.8  95.939  3.4824  19.779  1059.4  549.87  114.71  10.601   \n",
       "3  7.0569  1009.2  95.249  3.4805  19.792  1059.6  549.99  114.72  10.606   \n",
       "4  7.3978  1009.7  95.150  3.4976  19.765  1059.7  549.98  114.72  10.612   \n",
       "\n",
       "       CO     NOX  \n",
       "0  3.1547  82.722  \n",
       "1  3.2363  82.776  \n",
       "2  3.2012  82.468  \n",
       "3  3.1923  82.670  \n",
       "4  3.2484  82.311  "
      ]
     },
     "execution_count": 5,
     "metadata": {},
     "output_type": "execute_result"
    }
   ],
   "source": [
    "df =pd.read_csv('C://Users//rahul/ExcelR Assignment/gas_turbines.csv')\n",
    "df.head()"
   ]
  },
  {
   "cell_type": "code",
   "execution_count": 6,
   "id": "764c425f",
   "metadata": {
    "ExecuteTime": {
     "end_time": "2022-03-03T07:02:02.168515Z",
     "start_time": "2022-03-03T07:02:02.119397Z"
    }
   },
   "outputs": [
    {
     "data": {
      "text/html": [
       "<div>\n",
       "<style scoped>\n",
       "    .dataframe tbody tr th:only-of-type {\n",
       "        vertical-align: middle;\n",
       "    }\n",
       "\n",
       "    .dataframe tbody tr th {\n",
       "        vertical-align: top;\n",
       "    }\n",
       "\n",
       "    .dataframe thead th {\n",
       "        text-align: right;\n",
       "    }\n",
       "</style>\n",
       "<table border=\"1\" class=\"dataframe\">\n",
       "  <thead>\n",
       "    <tr style=\"text-align: right;\">\n",
       "      <th></th>\n",
       "      <th>AT</th>\n",
       "      <th>AP</th>\n",
       "      <th>AH</th>\n",
       "      <th>AFDP</th>\n",
       "      <th>GTEP</th>\n",
       "      <th>TIT</th>\n",
       "      <th>TAT</th>\n",
       "      <th>TEY</th>\n",
       "      <th>CDP</th>\n",
       "      <th>CO</th>\n",
       "      <th>NOX</th>\n",
       "    </tr>\n",
       "  </thead>\n",
       "  <tbody>\n",
       "    <tr>\n",
       "      <th>count</th>\n",
       "      <td>15039.000000</td>\n",
       "      <td>15039.00000</td>\n",
       "      <td>15039.000000</td>\n",
       "      <td>15039.000000</td>\n",
       "      <td>15039.000000</td>\n",
       "      <td>15039.000000</td>\n",
       "      <td>15039.000000</td>\n",
       "      <td>15039.000000</td>\n",
       "      <td>15039.000000</td>\n",
       "      <td>15039.000000</td>\n",
       "      <td>15039.000000</td>\n",
       "    </tr>\n",
       "    <tr>\n",
       "      <th>mean</th>\n",
       "      <td>17.764381</td>\n",
       "      <td>1013.19924</td>\n",
       "      <td>79.124174</td>\n",
       "      <td>4.200294</td>\n",
       "      <td>25.419061</td>\n",
       "      <td>1083.798770</td>\n",
       "      <td>545.396183</td>\n",
       "      <td>134.188464</td>\n",
       "      <td>12.102353</td>\n",
       "      <td>1.972499</td>\n",
       "      <td>68.190934</td>\n",
       "    </tr>\n",
       "    <tr>\n",
       "      <th>std</th>\n",
       "      <td>7.574323</td>\n",
       "      <td>6.41076</td>\n",
       "      <td>13.793439</td>\n",
       "      <td>0.760197</td>\n",
       "      <td>4.173916</td>\n",
       "      <td>16.527806</td>\n",
       "      <td>7.866803</td>\n",
       "      <td>15.829717</td>\n",
       "      <td>1.103196</td>\n",
       "      <td>2.222206</td>\n",
       "      <td>10.470586</td>\n",
       "    </tr>\n",
       "    <tr>\n",
       "      <th>min</th>\n",
       "      <td>0.522300</td>\n",
       "      <td>985.85000</td>\n",
       "      <td>30.344000</td>\n",
       "      <td>2.087400</td>\n",
       "      <td>17.878000</td>\n",
       "      <td>1000.800000</td>\n",
       "      <td>512.450000</td>\n",
       "      <td>100.170000</td>\n",
       "      <td>9.904400</td>\n",
       "      <td>0.000388</td>\n",
       "      <td>27.765000</td>\n",
       "    </tr>\n",
       "    <tr>\n",
       "      <th>25%</th>\n",
       "      <td>11.408000</td>\n",
       "      <td>1008.90000</td>\n",
       "      <td>69.750000</td>\n",
       "      <td>3.723900</td>\n",
       "      <td>23.294000</td>\n",
       "      <td>1079.600000</td>\n",
       "      <td>542.170000</td>\n",
       "      <td>127.985000</td>\n",
       "      <td>11.622000</td>\n",
       "      <td>0.858055</td>\n",
       "      <td>61.303500</td>\n",
       "    </tr>\n",
       "    <tr>\n",
       "      <th>50%</th>\n",
       "      <td>18.186000</td>\n",
       "      <td>1012.80000</td>\n",
       "      <td>82.266000</td>\n",
       "      <td>4.186200</td>\n",
       "      <td>25.082000</td>\n",
       "      <td>1088.700000</td>\n",
       "      <td>549.890000</td>\n",
       "      <td>133.780000</td>\n",
       "      <td>12.025000</td>\n",
       "      <td>1.390200</td>\n",
       "      <td>66.601000</td>\n",
       "    </tr>\n",
       "    <tr>\n",
       "      <th>75%</th>\n",
       "      <td>23.862500</td>\n",
       "      <td>1016.90000</td>\n",
       "      <td>90.043500</td>\n",
       "      <td>4.550900</td>\n",
       "      <td>27.184000</td>\n",
       "      <td>1096.000000</td>\n",
       "      <td>550.060000</td>\n",
       "      <td>140.895000</td>\n",
       "      <td>12.578000</td>\n",
       "      <td>2.160400</td>\n",
       "      <td>73.935500</td>\n",
       "    </tr>\n",
       "    <tr>\n",
       "      <th>max</th>\n",
       "      <td>34.929000</td>\n",
       "      <td>1034.20000</td>\n",
       "      <td>100.200000</td>\n",
       "      <td>7.610600</td>\n",
       "      <td>37.402000</td>\n",
       "      <td>1100.800000</td>\n",
       "      <td>550.610000</td>\n",
       "      <td>174.610000</td>\n",
       "      <td>15.081000</td>\n",
       "      <td>44.103000</td>\n",
       "      <td>119.890000</td>\n",
       "    </tr>\n",
       "  </tbody>\n",
       "</table>\n",
       "</div>"
      ],
      "text/plain": [
       "                 AT           AP            AH          AFDP          GTEP  \\\n",
       "count  15039.000000  15039.00000  15039.000000  15039.000000  15039.000000   \n",
       "mean      17.764381   1013.19924     79.124174      4.200294     25.419061   \n",
       "std        7.574323      6.41076     13.793439      0.760197      4.173916   \n",
       "min        0.522300    985.85000     30.344000      2.087400     17.878000   \n",
       "25%       11.408000   1008.90000     69.750000      3.723900     23.294000   \n",
       "50%       18.186000   1012.80000     82.266000      4.186200     25.082000   \n",
       "75%       23.862500   1016.90000     90.043500      4.550900     27.184000   \n",
       "max       34.929000   1034.20000    100.200000      7.610600     37.402000   \n",
       "\n",
       "                TIT           TAT           TEY           CDP            CO  \\\n",
       "count  15039.000000  15039.000000  15039.000000  15039.000000  15039.000000   \n",
       "mean    1083.798770    545.396183    134.188464     12.102353      1.972499   \n",
       "std       16.527806      7.866803     15.829717      1.103196      2.222206   \n",
       "min     1000.800000    512.450000    100.170000      9.904400      0.000388   \n",
       "25%     1079.600000    542.170000    127.985000     11.622000      0.858055   \n",
       "50%     1088.700000    549.890000    133.780000     12.025000      1.390200   \n",
       "75%     1096.000000    550.060000    140.895000     12.578000      2.160400   \n",
       "max     1100.800000    550.610000    174.610000     15.081000     44.103000   \n",
       "\n",
       "                NOX  \n",
       "count  15039.000000  \n",
       "mean      68.190934  \n",
       "std       10.470586  \n",
       "min       27.765000  \n",
       "25%       61.303500  \n",
       "50%       66.601000  \n",
       "75%       73.935500  \n",
       "max      119.890000  "
      ]
     },
     "execution_count": 6,
     "metadata": {},
     "output_type": "execute_result"
    }
   ],
   "source": [
    "df.describe()"
   ]
  },
  {
   "cell_type": "code",
   "execution_count": 7,
   "id": "3faca3ee",
   "metadata": {
    "ExecuteTime": {
     "end_time": "2022-03-03T07:02:05.421911Z",
     "start_time": "2022-03-03T07:02:05.228275Z"
    }
   },
   "outputs": [
    {
     "name": "stdout",
     "output_type": "stream",
     "text": [
      "<class 'pandas.core.frame.DataFrame'>\n",
      "RangeIndex: 15039 entries, 0 to 15038\n",
      "Data columns (total 11 columns):\n",
      " #   Column  Non-Null Count  Dtype  \n",
      "---  ------  --------------  -----  \n",
      " 0   AT      15039 non-null  float64\n",
      " 1   AP      15039 non-null  float64\n",
      " 2   AH      15039 non-null  float64\n",
      " 3   AFDP    15039 non-null  float64\n",
      " 4   GTEP    15039 non-null  float64\n",
      " 5   TIT     15039 non-null  float64\n",
      " 6   TAT     15039 non-null  float64\n",
      " 7   TEY     15039 non-null  float64\n",
      " 8   CDP     15039 non-null  float64\n",
      " 9   CO      15039 non-null  float64\n",
      " 10  NOX     15039 non-null  float64\n",
      "dtypes: float64(11)\n",
      "memory usage: 1.3 MB\n"
     ]
    }
   ],
   "source": [
    "df.info()"
   ]
  },
  {
   "cell_type": "code",
   "execution_count": 31,
   "id": "170c4acd",
   "metadata": {
    "ExecuteTime": {
     "end_time": "2022-03-03T07:08:28.063199Z",
     "start_time": "2022-03-03T07:08:25.945037Z"
    }
   },
   "outputs": [
    {
     "data": {
      "text/plain": [
       "<AxesSubplot:xlabel='NOX', ylabel='Density'>"
      ]
     },
     "execution_count": 31,
     "metadata": {},
     "output_type": "execute_result"
    },
    {
     "data": {
      "image/png": "[encoded data removed]",
      "text/plain": [
       "<Figure size 1440x1080 with 10 Axes>"
      ]
     },
     "metadata": {
      "needs_background": "light"
     },
     "output_type": "display_data"
    }
   ],
   "source": [
    "import warnings\n",
    "warnings.filterwarnings(\"ignore\")\n",
    "fig, axes = plt.subplots(5, 2, figsize=(20, 15))\n",
    "fig.suptitle('Univariate Analysis',fontsize=20)\n",
    "sns.distplot(df['AT'],ax=axes[0,0],color='indigo')\n",
    "sns.distplot(df['AP'],ax=axes[0,1],color='orange')\n",
    "sns.distplot(df['AH'],ax=axes[1,0],color='indigo')\n",
    "sns.distplot(df['AFDP'],ax=axes[1,1],color='orange')\n",
    "sns.distplot(df['GTEP'],ax=axes[2,0],color='indigo')\n",
    "sns.distplot(df['TIT'],ax=axes[2,1],color='orange')\n",
    "sns.distplot(df['TAT'],ax=axes[3,0],color='indigo')\n",
    "sns.distplot(df['CDP'],ax=axes[3,1],color='orange')\n",
    "sns.distplot(df['CO'],ax=axes[4,0],color='indigo')\n",
    "sns.distplot(df['NOX'],ax=axes[4,1],color='orange')"
   ]
  },
  {
   "cell_type": "code",
   "execution_count": 8,
   "id": "043747cd",
   "metadata": {
    "ExecuteTime": {
     "end_time": "2022-03-03T07:02:08.680460Z",
     "start_time": "2022-03-03T07:02:08.638573Z"
    }
   },
   "outputs": [
    {
     "data": {
      "text/html": [
       "<div>\n",
       "<style scoped>\n",
       "    .dataframe tbody tr th:only-of-type {\n",
       "        vertical-align: middle;\n",
       "    }\n",
       "\n",
       "    .dataframe tbody tr th {\n",
       "        vertical-align: top;\n",
       "    }\n",
       "\n",
       "    .dataframe thead th {\n",
       "        text-align: right;\n",
       "    }\n",
       "</style>\n",
       "<table border=\"1\" class=\"dataframe\">\n",
       "  <thead>\n",
       "    <tr style=\"text-align: right;\">\n",
       "      <th></th>\n",
       "      <th>AT</th>\n",
       "      <th>AP</th>\n",
       "      <th>AH</th>\n",
       "      <th>AFDP</th>\n",
       "      <th>GTEP</th>\n",
       "      <th>TIT</th>\n",
       "      <th>TAT</th>\n",
       "      <th>TEY</th>\n",
       "      <th>CDP</th>\n",
       "      <th>CO</th>\n",
       "      <th>NOX</th>\n",
       "    </tr>\n",
       "  </thead>\n",
       "  <tbody>\n",
       "    <tr>\n",
       "      <th>AT</th>\n",
       "      <td>1.000000</td>\n",
       "      <td>-0.412953</td>\n",
       "      <td>-0.549432</td>\n",
       "      <td>-0.099333</td>\n",
       "      <td>-0.049103</td>\n",
       "      <td>0.093067</td>\n",
       "      <td>0.338569</td>\n",
       "      <td>-0.207495</td>\n",
       "      <td>-0.100705</td>\n",
       "      <td>-0.088588</td>\n",
       "      <td>-0.600006</td>\n",
       "    </tr>\n",
       "    <tr>\n",
       "      <th>AP</th>\n",
       "      <td>-0.412953</td>\n",
       "      <td>1.000000</td>\n",
       "      <td>0.042573</td>\n",
       "      <td>0.040318</td>\n",
       "      <td>0.078575</td>\n",
       "      <td>0.029650</td>\n",
       "      <td>-0.223479</td>\n",
       "      <td>0.146939</td>\n",
       "      <td>0.131198</td>\n",
       "      <td>0.041614</td>\n",
       "      <td>0.256744</td>\n",
       "    </tr>\n",
       "    <tr>\n",
       "      <th>AH</th>\n",
       "      <td>-0.549432</td>\n",
       "      <td>0.042573</td>\n",
       "      <td>1.000000</td>\n",
       "      <td>-0.119249</td>\n",
       "      <td>-0.202784</td>\n",
       "      <td>-0.247781</td>\n",
       "      <td>0.010859</td>\n",
       "      <td>-0.110272</td>\n",
       "      <td>-0.182010</td>\n",
       "      <td>0.165505</td>\n",
       "      <td>0.143061</td>\n",
       "    </tr>\n",
       "    <tr>\n",
       "      <th>AFDP</th>\n",
       "      <td>-0.099333</td>\n",
       "      <td>0.040318</td>\n",
       "      <td>-0.119249</td>\n",
       "      <td>1.000000</td>\n",
       "      <td>0.744251</td>\n",
       "      <td>0.627254</td>\n",
       "      <td>-0.571541</td>\n",
       "      <td>0.717995</td>\n",
       "      <td>0.727152</td>\n",
       "      <td>-0.334207</td>\n",
       "      <td>-0.037299</td>\n",
       "    </tr>\n",
       "    <tr>\n",
       "      <th>GTEP</th>\n",
       "      <td>-0.049103</td>\n",
       "      <td>0.078575</td>\n",
       "      <td>-0.202784</td>\n",
       "      <td>0.744251</td>\n",
       "      <td>1.000000</td>\n",
       "      <td>0.874526</td>\n",
       "      <td>-0.756884</td>\n",
       "      <td>0.977042</td>\n",
       "      <td>0.993784</td>\n",
       "      <td>-0.508259</td>\n",
       "      <td>-0.208496</td>\n",
       "    </tr>\n",
       "    <tr>\n",
       "      <th>TIT</th>\n",
       "      <td>0.093067</td>\n",
       "      <td>0.029650</td>\n",
       "      <td>-0.247781</td>\n",
       "      <td>0.627254</td>\n",
       "      <td>0.874526</td>\n",
       "      <td>1.000000</td>\n",
       "      <td>-0.357320</td>\n",
       "      <td>0.891587</td>\n",
       "      <td>0.887238</td>\n",
       "      <td>-0.688272</td>\n",
       "      <td>-0.231636</td>\n",
       "    </tr>\n",
       "    <tr>\n",
       "      <th>TAT</th>\n",
       "      <td>0.338569</td>\n",
       "      <td>-0.223479</td>\n",
       "      <td>0.010859</td>\n",
       "      <td>-0.571541</td>\n",
       "      <td>-0.756884</td>\n",
       "      <td>-0.357320</td>\n",
       "      <td>1.000000</td>\n",
       "      <td>-0.720356</td>\n",
       "      <td>-0.744740</td>\n",
       "      <td>0.063404</td>\n",
       "      <td>0.009888</td>\n",
       "    </tr>\n",
       "    <tr>\n",
       "      <th>TEY</th>\n",
       "      <td>-0.207495</td>\n",
       "      <td>0.146939</td>\n",
       "      <td>-0.110272</td>\n",
       "      <td>0.717995</td>\n",
       "      <td>0.977042</td>\n",
       "      <td>0.891587</td>\n",
       "      <td>-0.720356</td>\n",
       "      <td>1.000000</td>\n",
       "      <td>0.988473</td>\n",
       "      <td>-0.541751</td>\n",
       "      <td>-0.102631</td>\n",
       "    </tr>\n",
       "    <tr>\n",
       "      <th>CDP</th>\n",
       "      <td>-0.100705</td>\n",
       "      <td>0.131198</td>\n",
       "      <td>-0.182010</td>\n",
       "      <td>0.727152</td>\n",
       "      <td>0.993784</td>\n",
       "      <td>0.887238</td>\n",
       "      <td>-0.744740</td>\n",
       "      <td>0.988473</td>\n",
       "      <td>1.000000</td>\n",
       "      <td>-0.520783</td>\n",
       "      <td>-0.169103</td>\n",
       "    </tr>\n",
       "    <tr>\n",
       "      <th>CO</th>\n",
       "      <td>-0.088588</td>\n",
       "      <td>0.041614</td>\n",
       "      <td>0.165505</td>\n",
       "      <td>-0.334207</td>\n",
       "      <td>-0.508259</td>\n",
       "      <td>-0.688272</td>\n",
       "      <td>0.063404</td>\n",
       "      <td>-0.541751</td>\n",
       "      <td>-0.520783</td>\n",
       "      <td>1.000000</td>\n",
       "      <td>0.316743</td>\n",
       "    </tr>\n",
       "    <tr>\n",
       "      <th>NOX</th>\n",
       "      <td>-0.600006</td>\n",
       "      <td>0.256744</td>\n",
       "      <td>0.143061</td>\n",
       "      <td>-0.037299</td>\n",
       "      <td>-0.208496</td>\n",
       "      <td>-0.231636</td>\n",
       "      <td>0.009888</td>\n",
       "      <td>-0.102631</td>\n",
       "      <td>-0.169103</td>\n",
       "      <td>0.316743</td>\n",
       "      <td>1.000000</td>\n",
       "    </tr>\n",
       "  </tbody>\n",
       "</table>\n",
       "</div>"
      ],
      "text/plain": [
       "            AT        AP        AH      AFDP      GTEP       TIT       TAT  \\\n",
       "AT    1.000000 -0.412953 -0.549432 -0.099333 -0.049103  0.093067  0.338569   \n",
       "AP   -0.412953  1.000000  0.042573  0.040318  0.078575  0.029650 -0.223479   \n",
       "AH   -0.549432  0.042573  1.000000 -0.119249 -0.202784 -0.247781  0.010859   \n",
       "AFDP -0.099333  0.040318 -0.119249  1.000000  0.744251  0.627254 -0.571541   \n",
       "GTEP -0.049103  0.078575 -0.202784  0.744251  1.000000  0.874526 -0.756884   \n",
       "TIT   0.093067  0.029650 -0.247781  0.627254  0.874526  1.000000 -0.357320   \n",
       "TAT   0.338569 -0.223479  0.010859 -0.571541 -0.756884 -0.357320  1.000000   \n",
       "TEY  -0.207495  0.146939 -0.110272  0.717995  0.977042  0.891587 -0.720356   \n",
       "CDP  -0.100705  0.131198 -0.182010  0.727152  0.993784  0.887238 -0.744740   \n",
       "CO   -0.088588  0.041614  0.165505 -0.334207 -0.508259 -0.688272  0.063404   \n",
       "NOX  -0.600006  0.256744  0.143061 -0.037299 -0.208496 -0.231636  0.009888   \n",
       "\n",
       "           TEY       CDP        CO       NOX  \n",
       "AT   -0.207495 -0.100705 -0.088588 -0.600006  \n",
       "AP    0.146939  0.131198  0.041614  0.256744  \n",
       "AH   -0.110272 -0.182010  0.165505  0.143061  \n",
       "AFDP  0.717995  0.727152 -0.334207 -0.037299  \n",
       "GTEP  0.977042  0.993784 -0.508259 -0.208496  \n",
       "TIT   0.891587  0.887238 -0.688272 -0.231636  \n",
       "TAT  -0.720356 -0.744740  0.063404  0.009888  \n",
       "TEY   1.000000  0.988473 -0.541751 -0.102631  \n",
       "CDP   0.988473  1.000000 -0.520783 -0.169103  \n",
       "CO   -0.541751 -0.520783  1.000000  0.316743  \n",
       "NOX  -0.102631 -0.169103  0.316743  1.000000  "
      ]
     },
     "execution_count": 8,
     "metadata": {},
     "output_type": "execute_result"
    }
   ],
   "source": [
    "df.corr()"
   ]
  },
  {
   "cell_type": "code",
   "execution_count": 32,
   "id": "d8f4f0f2",
   "metadata": {
    "ExecuteTime": {
     "end_time": "2022-03-03T07:10:02.180613Z",
     "start_time": "2022-03-03T07:10:01.672018Z"
    }
   },
   "outputs": [
    {
     "data": {
      "image/png": "[encoded data removed]",
      "text/plain": [
       "<Figure size 1080x576 with 2 Axes>"
      ]
     },
     "metadata": {
      "needs_background": "light"
     },
     "output_type": "display_data"
    }
   ],
   "source": [
    "# Heatmap of correlation matrix\n",
    "corr = df.corr()\n",
    "fig, ax = plt.subplots(figsize=(15, 8))\n",
    "\n",
    "sns.heatmap(corr, cmap='YlGnBu', annot=True, fmt=\".2f\")\n",
    "plt.xticks(range(len(corr.columns)), corr.columns)\n",
    "plt.yticks(range(len(corr.columns)), corr.columns)\n",
    "plt.show()"
   ]
  },
  {
   "cell_type": "code",
   "execution_count": 10,
   "id": "3a95723a",
   "metadata": {
    "ExecuteTime": {
     "end_time": "2022-03-03T07:02:23.611666Z",
     "start_time": "2022-03-03T07:02:23.585148Z"
    }
   },
   "outputs": [
    {
     "data": {
      "text/html": [
       "<div>\n",
       "<style scoped>\n",
       "    .dataframe tbody tr th:only-of-type {\n",
       "        vertical-align: middle;\n",
       "    }\n",
       "\n",
       "    .dataframe tbody tr th {\n",
       "        vertical-align: top;\n",
       "    }\n",
       "\n",
       "    .dataframe thead th {\n",
       "        text-align: right;\n",
       "    }\n",
       "</style>\n",
       "<table border=\"1\" class=\"dataframe\">\n",
       "  <thead>\n",
       "    <tr style=\"text-align: right;\">\n",
       "      <th></th>\n",
       "      <th>AT</th>\n",
       "      <th>AP</th>\n",
       "      <th>AH</th>\n",
       "      <th>AFDP</th>\n",
       "      <th>TIT</th>\n",
       "      <th>TAT</th>\n",
       "      <th>CDP</th>\n",
       "      <th>CO</th>\n",
       "      <th>NOX</th>\n",
       "    </tr>\n",
       "  </thead>\n",
       "  <tbody>\n",
       "    <tr>\n",
       "      <th>0</th>\n",
       "      <td>6.8594</td>\n",
       "      <td>1007.9</td>\n",
       "      <td>96.799</td>\n",
       "      <td>3.5000</td>\n",
       "      <td>1059.2</td>\n",
       "      <td>550.00</td>\n",
       "      <td>10.605</td>\n",
       "      <td>3.1547</td>\n",
       "      <td>82.722</td>\n",
       "    </tr>\n",
       "    <tr>\n",
       "      <th>1</th>\n",
       "      <td>6.7850</td>\n",
       "      <td>1008.4</td>\n",
       "      <td>97.118</td>\n",
       "      <td>3.4998</td>\n",
       "      <td>1059.3</td>\n",
       "      <td>550.00</td>\n",
       "      <td>10.598</td>\n",
       "      <td>3.2363</td>\n",
       "      <td>82.776</td>\n",
       "    </tr>\n",
       "    <tr>\n",
       "      <th>2</th>\n",
       "      <td>6.8977</td>\n",
       "      <td>1008.8</td>\n",
       "      <td>95.939</td>\n",
       "      <td>3.4824</td>\n",
       "      <td>1059.4</td>\n",
       "      <td>549.87</td>\n",
       "      <td>10.601</td>\n",
       "      <td>3.2012</td>\n",
       "      <td>82.468</td>\n",
       "    </tr>\n",
       "    <tr>\n",
       "      <th>3</th>\n",
       "      <td>7.0569</td>\n",
       "      <td>1009.2</td>\n",
       "      <td>95.249</td>\n",
       "      <td>3.4805</td>\n",
       "      <td>1059.6</td>\n",
       "      <td>549.99</td>\n",
       "      <td>10.606</td>\n",
       "      <td>3.1923</td>\n",
       "      <td>82.670</td>\n",
       "    </tr>\n",
       "    <tr>\n",
       "      <th>4</th>\n",
       "      <td>7.3978</td>\n",
       "      <td>1009.7</td>\n",
       "      <td>95.150</td>\n",
       "      <td>3.4976</td>\n",
       "      <td>1059.7</td>\n",
       "      <td>549.98</td>\n",
       "      <td>10.612</td>\n",
       "      <td>3.2484</td>\n",
       "      <td>82.311</td>\n",
       "    </tr>\n",
       "  </tbody>\n",
       "</table>\n",
       "</div>"
      ],
      "text/plain": [
       "       AT      AP      AH    AFDP     TIT     TAT     CDP      CO     NOX\n",
       "0  6.8594  1007.9  96.799  3.5000  1059.2  550.00  10.605  3.1547  82.722\n",
       "1  6.7850  1008.4  97.118  3.4998  1059.3  550.00  10.598  3.2363  82.776\n",
       "2  6.8977  1008.8  95.939  3.4824  1059.4  549.87  10.601  3.2012  82.468\n",
       "3  7.0569  1009.2  95.249  3.4805  1059.6  549.99  10.606  3.1923  82.670\n",
       "4  7.3978  1009.7  95.150  3.4976  1059.7  549.98  10.612  3.2484  82.311"
      ]
     },
     "execution_count": 10,
     "metadata": {},
     "output_type": "execute_result"
    }
   ],
   "source": [
    "X= df.drop([\"TEY\", \"GTEP\"], axis=1)\n",
    "X.head()"
   ]
  },
  {
   "cell_type": "code",
   "execution_count": 11,
   "id": "c1c3443d",
   "metadata": {
    "ExecuteTime": {
     "end_time": "2022-03-03T07:02:33.380221Z",
     "start_time": "2022-03-03T07:02:33.367657Z"
    }
   },
   "outputs": [
    {
     "data": {
      "text/html": [
       "<div>\n",
       "<style scoped>\n",
       "    .dataframe tbody tr th:only-of-type {\n",
       "        vertical-align: middle;\n",
       "    }\n",
       "\n",
       "    .dataframe tbody tr th {\n",
       "        vertical-align: top;\n",
       "    }\n",
       "\n",
       "    .dataframe thead th {\n",
       "        text-align: right;\n",
       "    }\n",
       "</style>\n",
       "<table border=\"1\" class=\"dataframe\">\n",
       "  <thead>\n",
       "    <tr style=\"text-align: right;\">\n",
       "      <th></th>\n",
       "      <th>TEY</th>\n",
       "    </tr>\n",
       "  </thead>\n",
       "  <tbody>\n",
       "    <tr>\n",
       "      <th>0</th>\n",
       "      <td>114.70</td>\n",
       "    </tr>\n",
       "    <tr>\n",
       "      <th>1</th>\n",
       "      <td>114.72</td>\n",
       "    </tr>\n",
       "    <tr>\n",
       "      <th>2</th>\n",
       "      <td>114.71</td>\n",
       "    </tr>\n",
       "    <tr>\n",
       "      <th>3</th>\n",
       "      <td>114.72</td>\n",
       "    </tr>\n",
       "    <tr>\n",
       "      <th>4</th>\n",
       "      <td>114.72</td>\n",
       "    </tr>\n",
       "  </tbody>\n",
       "</table>\n",
       "</div>"
      ],
      "text/plain": [
       "      TEY\n",
       "0  114.70\n",
       "1  114.72\n",
       "2  114.71\n",
       "3  114.72\n",
       "4  114.72"
      ]
     },
     "execution_count": 11,
     "metadata": {},
     "output_type": "execute_result"
    }
   ],
   "source": [
    "y = pd.DataFrame({\"TEY\":df.iloc[:,7]})\n",
    "y.head()"
   ]
  },
  {
   "cell_type": "code",
   "execution_count": 12,
   "id": "e7553479",
   "metadata": {
    "ExecuteTime": {
     "end_time": "2022-03-03T07:02:39.648169Z",
     "start_time": "2022-03-03T07:02:39.328236Z"
    }
   },
   "outputs": [],
   "source": [
    "# Making split for training and testing data\n",
    "from sklearn.model_selection import train_test_split\n",
    "from sklearn.metrics import mean_absolute_error, mean_squared_error"
   ]
  },
  {
   "cell_type": "code",
   "execution_count": 13,
   "id": "a06ea098",
   "metadata": {
    "ExecuteTime": {
     "end_time": "2022-03-03T07:02:42.383280Z",
     "start_time": "2022-03-03T07:02:42.367564Z"
    }
   },
   "outputs": [],
   "source": [
    "X_train, X_test, y_train, y_test = train_test_split(X, y, test_size=0.3, random_state=42)"
   ]
  },
  {
   "cell_type": "code",
   "execution_count": 14,
   "id": "ca3f55ec",
   "metadata": {
    "ExecuteTime": {
     "end_time": "2022-03-03T07:02:45.264590Z",
     "start_time": "2022-03-03T07:02:45.245642Z"
    }
   },
   "outputs": [],
   "source": [
    "# Applying Standard scalar on the data\n",
    "from sklearn.preprocessing import StandardScaler\n",
    "scaled = StandardScaler()\n",
    "X_train = scaled.fit_transform(X_train)\n",
    "X_test = scaled.transform(X_test)"
   ]
  },
  {
   "cell_type": "code",
   "execution_count": 15,
   "id": "31a2c3d9",
   "metadata": {
    "ExecuteTime": {
     "end_time": "2022-03-03T07:02:51.766062Z",
     "start_time": "2022-03-03T07:02:50.187813Z"
    }
   },
   "outputs": [],
   "source": [
    "#Initialising ANN\n",
    "classifier = Sequential()\n",
    "\n",
    "# Adding the input layer and first hidden layer \n",
    "classifier.add(Dense(units=30, activation= \"relu\", input_dim=9))\n",
    "classifier.add(Dropout(0.2))\n",
    "\n",
    "# Adding second hidden layer\n",
    "classifier.add(Dense(units=35,  activation= \"relu\"))\n",
    "classifier.add(Dropout(0.2))\n",
    "\n",
    "classifier.add(Dense(units=30, activation= \"relu\"))\n",
    "classifier.add(Dropout(0.2))\n",
    "\n",
    "# Adding the output layer\n",
    "classifier.add(Dense(units=1,  activation= \"linear\"))"
   ]
  },
  {
   "cell_type": "code",
   "execution_count": 16,
   "id": "f317a7ad",
   "metadata": {
    "ExecuteTime": {
     "end_time": "2022-03-03T07:02:54.606477Z",
     "start_time": "2022-03-03T07:02:54.591063Z"
    }
   },
   "outputs": [],
   "source": [
    "# Compling the ANN\n",
    "classifier.compile(optimizer= \"adam\", loss=\"mse\", metrics= [\"mae\", \"mse\"])"
   ]
  },
  {
   "cell_type": "code",
   "execution_count": 17,
   "id": "42ab2006",
   "metadata": {
    "ExecuteTime": {
     "end_time": "2022-03-03T07:04:17.363601Z",
     "start_time": "2022-03-03T07:02:57.942961Z"
    }
   },
   "outputs": [
    {
     "name": "stdout",
     "output_type": "stream",
     "text": [
      "Epoch 1/100\n",
      "737/737 [==============================] - 2s 1ms/step - loss: 4130.5977 - mae: 47.5794 - mse: 4130.5977 - val_loss: 201.2905 - val_mae: 11.1032 - val_mse: 201.2905\n",
      "Epoch 2/100\n",
      "737/737 [==============================] - 1s 1ms/step - loss: 785.4770 - mae: 22.5075 - mse: 785.4770 - val_loss: 146.7666 - val_mae: 10.1452 - val_mse: 146.7666\n",
      "Epoch 3/100\n",
      "737/737 [==============================] - 1s 1ms/step - loss: 634.0157 - mae: 20.0647 - mse: 634.0157 - val_loss: 75.0879 - val_mae: 6.9878 - val_mse: 75.0879\n",
      "Epoch 4/100\n",
      "737/737 [==============================] - 1s 971us/step - loss: 562.4141 - mae: 18.9471 - mse: 562.4141 - val_loss: 23.6078 - val_mae: 3.4957 - val_mse: 23.6078\n",
      "Epoch 5/100\n",
      "737/737 [==============================] - 1s 990us/step - loss: 515.8835 - mae: 17.9915 - mse: 515.8835 - val_loss: 72.8929 - val_mae: 7.5552 - val_mse: 72.8929\n",
      "Epoch 6/100\n",
      "737/737 [==============================] - 1s 1ms/step - loss: 478.7834 - mae: 17.3932 - mse: 478.7834 - val_loss: 21.7390 - val_mae: 4.0126 - val_mse: 21.7390\n",
      "Epoch 7/100\n",
      "737/737 [==============================] - 1s 966us/step - loss: 442.1271 - mae: 16.7201 - mse: 442.1271 - val_loss: 32.8835 - val_mae: 5.3940 - val_mse: 32.8835\n",
      "Epoch 8/100\n",
      "737/737 [==============================] - 1s 967us/step - loss: 427.1363 - mae: 16.4086 - mse: 427.1363 - val_loss: 11.4532 - val_mae: 2.7552 - val_mse: 11.4532\n",
      "Epoch 9/100\n",
      "737/737 [==============================] - 1s 983us/step - loss: 415.9888 - mae: 16.2306 - mse: 415.9888 - val_loss: 7.3159 - val_mae: 2.0780 - val_mse: 7.3159\n",
      "Epoch 10/100\n",
      "737/737 [==============================] - 1s 972us/step - loss: 416.4376 - mae: 16.1500 - mse: 416.4375 - val_loss: 22.8296 - val_mae: 4.2983 - val_mse: 22.8296\n",
      "Epoch 11/100\n",
      "737/737 [==============================] - 1s 992us/step - loss: 401.1174 - mae: 15.8644 - mse: 401.1174 - val_loss: 28.1266 - val_mae: 4.3445 - val_mse: 28.1266\n",
      "Epoch 12/100\n",
      "737/737 [==============================] - 1s 1ms/step - loss: 402.2191 - mae: 15.8514 - mse: 402.2191 - val_loss: 8.8130 - val_mae: 2.6079 - val_mse: 8.8130\n",
      "Epoch 13/100\n",
      "737/737 [==============================] - 1s 1ms/step - loss: 391.1244 - mae: 15.6302 - mse: 391.1244 - val_loss: 12.9902 - val_mae: 3.1753 - val_mse: 12.9902\n",
      "Epoch 14/100\n",
      "737/737 [==============================] - 1s 976us/step - loss: 383.0982 - mae: 15.5081 - mse: 383.0982 - val_loss: 2.5504 - val_mae: 1.2178 - val_mse: 2.5504\n",
      "Epoch 15/100\n",
      "737/737 [==============================] - 1s 963us/step - loss: 378.0832 - mae: 15.4712 - mse: 378.0832 - val_loss: 23.5278 - val_mae: 4.1446 - val_mse: 23.5278\n",
      "Epoch 16/100\n",
      "737/737 [==============================] - 1s 1ms/step - loss: 371.0201 - mae: 15.3411 - mse: 371.0201 - val_loss: 54.1376 - val_mae: 6.6324 - val_mse: 54.1376\n",
      "Epoch 17/100\n",
      "737/737 [==============================] - 1s 983us/step - loss: 370.0498 - mae: 15.3106 - mse: 370.0498 - val_loss: 11.9745 - val_mae: 2.5065 - val_mse: 11.9745\n",
      "Epoch 18/100\n",
      "737/737 [==============================] - 1s 969us/step - loss: 353.2221 - mae: 14.9571 - mse: 353.2221 - val_loss: 7.2919 - val_mae: 2.2246 - val_mse: 7.2919\n",
      "Epoch 19/100\n",
      "737/737 [==============================] - 1s 963us/step - loss: 346.1927 - mae: 14.6866 - mse: 346.1927 - val_loss: 34.8603 - val_mae: 5.5201 - val_mse: 34.8603\n",
      "Epoch 20/100\n",
      "737/737 [==============================] - 1s 964us/step - loss: 351.4229 - mae: 14.8717 - mse: 351.4229 - val_loss: 33.9927 - val_mae: 5.2944 - val_mse: 33.9927\n",
      "Epoch 21/100\n",
      "737/737 [==============================] - 1s 998us/step - loss: 336.9369 - mae: 14.5047 - mse: 336.9369 - val_loss: 20.1407 - val_mae: 4.0237 - val_mse: 20.1407\n",
      "Epoch 22/100\n",
      "737/737 [==============================] - 1s 980us/step - loss: 338.8632 - mae: 14.5781 - mse: 338.8632 - val_loss: 3.4969 - val_mae: 1.5536 - val_mse: 3.4969\n",
      "Epoch 23/100\n",
      "737/737 [==============================] - 1s 976us/step - loss: 334.7121 - mae: 14.4401 - mse: 334.7121 - val_loss: 17.8089 - val_mae: 4.0286 - val_mse: 17.8089\n",
      "Epoch 24/100\n",
      "737/737 [==============================] - 1s 980us/step - loss: 333.8608 - mae: 14.4991 - mse: 333.8608 - val_loss: 20.5468 - val_mae: 4.2700 - val_mse: 20.5468\n",
      "Epoch 25/100\n",
      "737/737 [==============================] - 1s 969us/step - loss: 331.7572 - mae: 14.4735 - mse: 331.7572 - val_loss: 31.5359 - val_mae: 4.9219 - val_mse: 31.5359\n",
      "Epoch 26/100\n",
      "737/737 [==============================] - 1s 968us/step - loss: 315.1742 - mae: 14.1317 - mse: 315.1741 - val_loss: 24.4681 - val_mae: 4.8197 - val_mse: 24.4681\n",
      "Epoch 27/100\n",
      "737/737 [==============================] - 1s 975us/step - loss: 314.7774 - mae: 14.0330 - mse: 314.7774 - val_loss: 19.4306 - val_mae: 4.1041 - val_mse: 19.4306\n",
      "Epoch 28/100\n",
      "737/737 [==============================] - 1s 961us/step - loss: 307.8998 - mae: 13.8936 - mse: 307.8998 - val_loss: 1.5162 - val_mae: 0.9415 - val_mse: 1.5162\n",
      "Epoch 29/100\n",
      "737/737 [==============================] - 1s 963us/step - loss: 307.9127 - mae: 13.8800 - mse: 307.9127 - val_loss: 5.2816 - val_mae: 1.9918 - val_mse: 5.2816\n",
      "Epoch 30/100\n",
      "737/737 [==============================] - 1s 970us/step - loss: 310.0494 - mae: 13.8433 - mse: 310.0494 - val_loss: 15.1679 - val_mae: 3.5600 - val_mse: 15.1679\n",
      "Epoch 31/100\n",
      "737/737 [==============================] - 1s 995us/step - loss: 312.3407 - mae: 13.9423 - mse: 312.3407 - val_loss: 3.7802 - val_mae: 1.6620 - val_mse: 3.7802\n",
      "Epoch 32/100\n",
      "737/737 [==============================] - 1s 966us/step - loss: 294.3540 - mae: 13.5671 - mse: 294.3540 - val_loss: 12.4703 - val_mae: 3.2548 - val_mse: 12.4703\n",
      "Epoch 33/100\n",
      "737/737 [==============================] - 1s 978us/step - loss: 286.5071 - mae: 13.3578 - mse: 286.5071 - val_loss: 7.9902 - val_mae: 2.6167 - val_mse: 7.9902\n",
      "Epoch 34/100\n",
      "737/737 [==============================] - 1s 980us/step - loss: 291.2133 - mae: 13.4924 - mse: 291.2133 - val_loss: 13.6542 - val_mae: 3.3339 - val_mse: 13.6542\n",
      "Epoch 35/100\n",
      "737/737 [==============================] - 1s 979us/step - loss: 281.5243 - mae: 13.2602 - mse: 281.5243 - val_loss: 6.6307 - val_mae: 2.1959 - val_mse: 6.6307\n",
      "Epoch 36/100\n",
      "737/737 [==============================] - 1s 986us/step - loss: 288.0103 - mae: 13.3865 - mse: 288.0103 - val_loss: 1.6488 - val_mae: 0.9568 - val_mse: 1.6488\n",
      "Epoch 37/100\n",
      "737/737 [==============================] - 1s 974us/step - loss: 271.4631 - mae: 13.0073 - mse: 271.4631 - val_loss: 17.4593 - val_mae: 3.5914 - val_mse: 17.4593\n",
      "Epoch 38/100\n",
      "737/737 [==============================] - 1s 979us/step - loss: 286.7187 - mae: 13.3478 - mse: 286.7187 - val_loss: 1.7999 - val_mae: 0.9966 - val_mse: 1.7999\n",
      "Epoch 39/100\n",
      "737/737 [==============================] - 1s 980us/step - loss: 275.3521 - mae: 13.0816 - mse: 275.3521 - val_loss: 9.2412 - val_mae: 2.5525 - val_mse: 9.2412\n",
      "Epoch 40/100\n",
      "737/737 [==============================] - 1s 1ms/step - loss: 268.6463 - mae: 12.9154 - mse: 268.6463 - val_loss: 4.2795 - val_mae: 1.6359 - val_mse: 4.2795\n",
      "Epoch 41/100\n",
      "737/737 [==============================] - 1s 976us/step - loss: 265.1874 - mae: 12.8447 - mse: 265.1874 - val_loss: 6.8315 - val_mae: 1.8409 - val_mse: 6.8315\n",
      "Epoch 42/100\n",
      "737/737 [==============================] - 1s 1ms/step - loss: 260.0969 - mae: 12.7705 - mse: 260.0969 - val_loss: 1.8603 - val_mae: 1.0533 - val_mse: 1.8603\n",
      "Epoch 43/100\n",
      "737/737 [==============================] - 1s 1ms/step - loss: 265.9753 - mae: 12.7723 - mse: 265.9753 - val_loss: 2.6854 - val_mae: 1.2701 - val_mse: 2.6854\n",
      "Epoch 44/100\n",
      "737/737 [==============================] - 1s 1ms/step - loss: 253.4908 - mae: 12.5813 - mse: 253.4908 - val_loss: 7.7172 - val_mae: 2.4451 - val_mse: 7.7172\n",
      "Epoch 45/100\n",
      "737/737 [==============================] - 1s 1ms/step - loss: 245.8430 - mae: 12.4052 - mse: 245.8430 - val_loss: 3.4347 - val_mae: 1.5166 - val_mse: 3.4347\n",
      "Epoch 46/100\n",
      "737/737 [==============================] - 1s 1ms/step - loss: 245.7279 - mae: 12.4214 - mse: 245.7279 - val_loss: 7.8689 - val_mae: 2.2979 - val_mse: 7.8689\n",
      "Epoch 47/100\n",
      "737/737 [==============================] - 1s 1ms/step - loss: 247.2891 - mae: 12.4340 - mse: 247.2891 - val_loss: 8.3185 - val_mae: 2.6832 - val_mse: 8.3185\n",
      "Epoch 48/100\n",
      "737/737 [==============================] - 1s 1ms/step - loss: 237.5469 - mae: 12.1552 - mse: 237.5469 - val_loss: 8.3113 - val_mae: 2.5693 - val_mse: 8.3113\n",
      "Epoch 49/100\n",
      "737/737 [==============================] - 1s 1ms/step - loss: 242.6183 - mae: 12.2226 - mse: 242.6183 - val_loss: 12.8593 - val_mae: 3.0417 - val_mse: 12.8593\n",
      "Epoch 50/100\n",
      "737/737 [==============================] - 1s 1ms/step - loss: 241.0744 - mae: 12.1258 - mse: 241.0744 - val_loss: 8.4354 - val_mae: 2.7000 - val_mse: 8.4354\n",
      "Epoch 51/100\n",
      "737/737 [==============================] - 1s 1ms/step - loss: 235.7177 - mae: 12.0604 - mse: 235.7177 - val_loss: 2.9400 - val_mae: 1.3564 - val_mse: 2.9400\n",
      "Epoch 52/100\n",
      "737/737 [==============================] - 1s 1ms/step - loss: 228.1658 - mae: 11.9253 - mse: 228.1658 - val_loss: 6.9434 - val_mae: 2.4424 - val_mse: 6.9434\n",
      "Epoch 53/100\n",
      "737/737 [==============================] - 1s 1ms/step - loss: 226.3737 - mae: 11.8669 - mse: 226.3737 - val_loss: 5.6731 - val_mae: 2.0418 - val_mse: 5.6731\n",
      "Epoch 54/100\n",
      "737/737 [==============================] - 1s 1ms/step - loss: 228.8044 - mae: 11.8884 - mse: 228.8044 - val_loss: 11.2881 - val_mae: 2.8246 - val_mse: 11.2881\n",
      "Epoch 55/100\n",
      "737/737 [==============================] - 1s 1ms/step - loss: 232.3633 - mae: 11.9940 - mse: 232.3633 - val_loss: 5.9438 - val_mae: 2.0988 - val_mse: 5.9438\n",
      "Epoch 56/100\n",
      "737/737 [==============================] - 1s 1ms/step - loss: 223.1028 - mae: 11.8212 - mse: 223.1028 - val_loss: 3.0237 - val_mae: 1.4239 - val_mse: 3.0237\n",
      "Epoch 57/100\n",
      "737/737 [==============================] - 1s 1ms/step - loss: 224.4736 - mae: 11.8244 - mse: 224.4736 - val_loss: 9.1221 - val_mae: 2.4829 - val_mse: 9.1221\n",
      "Epoch 58/100\n",
      "737/737 [==============================] - 1s 1ms/step - loss: 221.5646 - mae: 11.7206 - mse: 221.5646 - val_loss: 31.4118 - val_mae: 4.8148 - val_mse: 31.4118\n",
      "Epoch 59/100\n",
      "737/737 [==============================] - 1s 1ms/step - loss: 221.8509 - mae: 11.7892 - mse: 221.8509 - val_loss: 8.3931 - val_mae: 2.3725 - val_mse: 8.3931\n",
      "Epoch 60/100\n",
      "737/737 [==============================] - 1s 1ms/step - loss: 221.7712 - mae: 11.7584 - mse: 221.7712 - val_loss: 3.7506 - val_mae: 1.5143 - val_mse: 3.7506\n",
      "Epoch 61/100\n",
      "737/737 [==============================] - 1s 1ms/step - loss: 218.0000 - mae: 11.6261 - mse: 218.0000 - val_loss: 2.0909 - val_mae: 1.0094 - val_mse: 2.0909\n",
      "Epoch 62/100\n",
      "737/737 [==============================] - 1s 1ms/step - loss: 218.7631 - mae: 11.6923 - mse: 218.7631 - val_loss: 4.7931 - val_mae: 1.6284 - val_mse: 4.7931\n",
      "Epoch 63/100\n",
      "737/737 [==============================] - 1s 1ms/step - loss: 222.1731 - mae: 11.7166 - mse: 222.1731 - val_loss: 3.3770 - val_mae: 1.5109 - val_mse: 3.3770\n",
      "Epoch 64/100\n",
      "737/737 [==============================] - 1s 1ms/step - loss: 219.5525 - mae: 11.7040 - mse: 219.5525 - val_loss: 12.3839 - val_mae: 3.2557 - val_mse: 12.3839\n",
      "Epoch 65/100\n",
      "737/737 [==============================] - 1s 1ms/step - loss: 208.7386 - mae: 11.4299 - mse: 208.7386 - val_loss: 6.8158 - val_mae: 2.3322 - val_mse: 6.8158\n",
      "Epoch 66/100\n",
      "737/737 [==============================] - 1s 1ms/step - loss: 223.0512 - mae: 11.7767 - mse: 223.0512 - val_loss: 9.4500 - val_mae: 2.7641 - val_mse: 9.4500\n",
      "Epoch 67/100\n",
      "737/737 [==============================] - 1s 1ms/step - loss: 208.0382 - mae: 11.3847 - mse: 208.0382 - val_loss: 4.0246 - val_mae: 1.6860 - val_mse: 4.0246\n",
      "Epoch 68/100\n",
      "737/737 [==============================] - 1s 1ms/step - loss: 206.6658 - mae: 11.2771 - mse: 206.6658 - val_loss: 6.9849 - val_mae: 1.9843 - val_mse: 6.9849\n",
      "Epoch 69/100\n",
      "737/737 [==============================] - 1s 1ms/step - loss: 210.7806 - mae: 11.4543 - mse: 210.7806 - val_loss: 8.1733 - val_mae: 2.2847 - val_mse: 8.1733\n",
      "Epoch 70/100\n",
      "737/737 [==============================] - 1s 1ms/step - loss: 211.7130 - mae: 11.4228 - mse: 211.7130 - val_loss: 23.5762 - val_mae: 4.4072 - val_mse: 23.5762\n",
      "Epoch 71/100\n",
      "737/737 [==============================] - 1s 1ms/step - loss: 211.0973 - mae: 11.4673 - mse: 211.0973 - val_loss: 8.6576 - val_mae: 2.6281 - val_mse: 8.6576\n",
      "Epoch 72/100\n",
      "737/737 [==============================] - 1s 1ms/step - loss: 206.6705 - mae: 11.3219 - mse: 206.6705 - val_loss: 2.8366 - val_mae: 1.2663 - val_mse: 2.8366\n",
      "Epoch 73/100\n",
      "737/737 [==============================] - 1s 1ms/step - loss: 207.0196 - mae: 11.2425 - mse: 207.0196 - val_loss: 4.2125 - val_mae: 1.7911 - val_mse: 4.2125\n",
      "Epoch 74/100\n",
      "737/737 [==============================] - 1s 1ms/step - loss: 209.7834 - mae: 11.4185 - mse: 209.7834 - val_loss: 7.1251 - val_mae: 2.0736 - val_mse: 7.1251\n",
      "Epoch 75/100\n",
      "737/737 [==============================] - 1s 1ms/step - loss: 203.6528 - mae: 11.2256 - mse: 203.6528 - val_loss: 3.7711 - val_mae: 1.6675 - val_mse: 3.7711\n",
      "Epoch 76/100\n",
      "737/737 [==============================] - 1s 1ms/step - loss: 200.3956 - mae: 11.1274 - mse: 200.3956 - val_loss: 9.8115 - val_mae: 2.7556 - val_mse: 9.8115\n",
      "Epoch 77/100\n",
      "737/737 [==============================] - 1s 1ms/step - loss: 208.7714 - mae: 11.3434 - mse: 208.7714 - val_loss: 7.4954 - val_mae: 2.1710 - val_mse: 7.4954\n",
      "Epoch 78/100\n",
      "737/737 [==============================] - 1s 1ms/step - loss: 199.8746 - mae: 11.1355 - mse: 199.8746 - val_loss: 18.4111 - val_mae: 3.6928 - val_mse: 18.4111\n",
      "Epoch 79/100\n",
      "737/737 [==============================] - 1s 1ms/step - loss: 194.3669 - mae: 11.0319 - mse: 194.3669 - val_loss: 8.4544 - val_mae: 2.3333 - val_mse: 8.4544\n",
      "Epoch 80/100\n",
      "737/737 [==============================] - 1s 1ms/step - loss: 196.5898 - mae: 11.0154 - mse: 196.5898 - val_loss: 2.5113 - val_mae: 1.1582 - val_mse: 2.5113\n",
      "Epoch 81/100\n",
      "737/737 [==============================] - 1s 1ms/step - loss: 200.7308 - mae: 11.2098 - mse: 200.7308 - val_loss: 11.7019 - val_mae: 2.9347 - val_mse: 11.7019\n",
      "Epoch 82/100\n",
      "737/737 [==============================] - 1s 1ms/step - loss: 197.2781 - mae: 11.0217 - mse: 197.2781 - val_loss: 6.4028 - val_mae: 1.8977 - val_mse: 6.4028\n",
      "Epoch 83/100\n",
      "737/737 [==============================] - 1s 1ms/step - loss: 200.0120 - mae: 11.1010 - mse: 200.0120 - val_loss: 3.5573 - val_mae: 1.4431 - val_mse: 3.5573\n",
      "Epoch 84/100\n",
      "737/737 [==============================] - 1s 1ms/step - loss: 200.9745 - mae: 11.0849 - mse: 200.9745 - val_loss: 2.7029 - val_mae: 1.2606 - val_mse: 2.7029\n",
      "Epoch 85/100\n",
      "737/737 [==============================] - 1s 1ms/step - loss: 197.5261 - mae: 11.0364 - mse: 197.5261 - val_loss: 7.1983 - val_mae: 2.3799 - val_mse: 7.1983\n",
      "Epoch 86/100\n",
      "737/737 [==============================] - 1s 1ms/step - loss: 199.4774 - mae: 10.9879 - mse: 199.4774 - val_loss: 3.9655 - val_mae: 1.5954 - val_mse: 3.9655\n",
      "Epoch 87/100\n",
      "737/737 [==============================] - 1s 1ms/step - loss: 199.9831 - mae: 11.0966 - mse: 199.9831 - val_loss: 2.5795 - val_mae: 1.2394 - val_mse: 2.5795\n",
      "Epoch 88/100\n",
      "737/737 [==============================] - 1s 1ms/step - loss: 191.0962 - mae: 10.9305 - mse: 191.0962 - val_loss: 2.6410 - val_mae: 1.1713 - val_mse: 2.6410\n",
      "Epoch 89/100\n",
      "737/737 [==============================] - 1s 1ms/step - loss: 199.9360 - mae: 11.1129 - mse: 199.9360 - val_loss: 10.4469 - val_mae: 2.6569 - val_mse: 10.4469\n",
      "Epoch 90/100\n",
      "737/737 [==============================] - 1s 1ms/step - loss: 197.0883 - mae: 11.0609 - mse: 197.0883 - val_loss: 5.2952 - val_mae: 1.7574 - val_mse: 5.2952\n",
      "Epoch 91/100\n",
      "737/737 [==============================] - 1s 1ms/step - loss: 188.5871 - mae: 10.8450 - mse: 188.5871 - val_loss: 2.2135 - val_mae: 1.1959 - val_mse: 2.2135\n",
      "Epoch 92/100\n",
      "737/737 [==============================] - 1s 1ms/step - loss: 191.7792 - mae: 10.9130 - mse: 191.7792 - val_loss: 14.1155 - val_mae: 2.9949 - val_mse: 14.1155\n",
      "Epoch 93/100\n",
      "737/737 [==============================] - 1s 1ms/step - loss: 188.1075 - mae: 10.7981 - mse: 188.1075 - val_loss: 5.8089 - val_mae: 2.0839 - val_mse: 5.8089\n",
      "Epoch 94/100\n",
      "737/737 [==============================] - 1s 1ms/step - loss: 186.5160 - mae: 10.7501 - mse: 186.5160 - val_loss: 12.2102 - val_mae: 2.9785 - val_mse: 12.2102\n",
      "Epoch 95/100\n",
      "737/737 [==============================] - 1s 1ms/step - loss: 182.0773 - mae: 10.6198 - mse: 182.0773 - val_loss: 4.8581 - val_mae: 1.7506 - val_mse: 4.8581\n",
      "Epoch 96/100\n",
      "737/737 [==============================] - 1s 1ms/step - loss: 180.9763 - mae: 10.5248 - mse: 180.9763 - val_loss: 14.8353 - val_mae: 3.3304 - val_mse: 14.8353\n",
      "Epoch 97/100\n",
      "737/737 [==============================] - 1s 1ms/step - loss: 182.1386 - mae: 10.5585 - mse: 182.1386 - val_loss: 6.9874 - val_mae: 2.0337 - val_mse: 6.9874\n",
      "Epoch 98/100\n",
      "737/737 [==============================] - 1s 1ms/step - loss: 182.5645 - mae: 10.6426 - mse: 182.5645 - val_loss: 1.7721 - val_mae: 0.9617 - val_mse: 1.7721\n",
      "Epoch 99/100\n",
      "737/737 [==============================] - 1s 1ms/step - loss: 179.0099 - mae: 10.5474 - mse: 179.0099 - val_loss: 6.0764 - val_mae: 2.0881 - val_mse: 6.0764\n",
      "Epoch 100/100\n",
      "737/737 [==============================] - 1s 1ms/step - loss: 188.2776 - mae: 10.6759 - mse: 188.2776 - val_loss: 5.1366 - val_mae: 1.8826 - val_mse: 5.1366\n"
     ]
    }
   ],
   "source": [
    "# Fitting the ANN on training data set\n",
    "#early_stop= keras.callbacks.EarlyStopping(monitor=\"val_loss\", patience=20)\n",
    "model_history = classifier.fit(X_train, y_train, validation_split=0.3, batch_size=10, epochs=100)"
   ]
  },
  {
   "cell_type": "code",
   "execution_count": 18,
   "id": "1906cf23",
   "metadata": {
    "ExecuteTime": {
     "end_time": "2022-03-03T07:04:36.723827Z",
     "start_time": "2022-03-03T07:04:36.718818Z"
    }
   },
   "outputs": [
    {
     "name": "stdout",
     "output_type": "stream",
     "text": [
      "dict_keys(['loss', 'mae', 'mse', 'val_loss', 'val_mae', 'val_mse'])\n"
     ]
    }
   ],
   "source": [
    "print(model_history.history.keys())"
   ]
  },
  {
   "cell_type": "code",
   "execution_count": 35,
   "id": "2568268b",
   "metadata": {
    "ExecuteTime": {
     "end_time": "2022-03-03T07:43:38.892145Z",
     "start_time": "2022-03-03T07:43:38.766743Z"
    }
   },
   "outputs": [
    {
     "data": {
      "image/png": "[encoded data removed]",
      "text/plain": [
       "<Figure size 432x288 with 1 Axes>"
      ]
     },
     "metadata": {
      "needs_background": "light"
     },
     "output_type": "display_data"
    }
   ],
   "source": [
    "plt.xlabel(\"epoch\")\n",
    "plt.ylabel(\"mae\")\n",
    "plt.plot(model_history.epoch, model_history.history[\"mae\"] )\n",
    "plt.plot(model_history.epoch, model_history.history[\"val_mae\"] )\n",
    "plt.legend(['train', 'test'], loc='upper left')\n",
    "plt.show()"
   ]
  },
  {
   "cell_type": "code",
   "execution_count": 34,
   "id": "01d4f375",
   "metadata": {
    "ExecuteTime": {
     "end_time": "2022-03-03T07:43:27.803022Z",
     "start_time": "2022-03-03T07:43:27.670181Z"
    }
   },
   "outputs": [
    {
     "data": {
      "image/png": "[encoded data removed]",
      "text/plain": [
       "<Figure size 432x288 with 1 Axes>"
      ]
     },
     "metadata": {
      "needs_background": "light"
     },
     "output_type": "display_data"
    }
   ],
   "source": [
    "plt.xlabel(\"epoch\")\n",
    "plt.ylabel(\"mse\")\n",
    "plt.plot(model_history.epoch, model_history.history[\"mse\"] )\n",
    "plt.plot(model_history.epoch, model_history.history[\"val_mse\"] )\n",
    "plt.legend(['train', 'test'], loc='upper left')\n",
    "plt.show()"
   ]
  },
  {
   "cell_type": "code",
   "execution_count": 20,
   "id": "dc8eadcb",
   "metadata": {
    "ExecuteTime": {
     "end_time": "2022-03-03T07:04:54.334700Z",
     "start_time": "2022-03-03T07:04:54.167446Z"
    }
   },
   "outputs": [],
   "source": [
    "# Predicting the test \n",
    "y_pred = classifier.predict(X_test)"
   ]
  },
  {
   "cell_type": "code",
   "execution_count": 21,
   "id": "63a45476",
   "metadata": {
    "ExecuteTime": {
     "end_time": "2022-03-03T07:04:57.371579Z",
     "start_time": "2022-03-03T07:04:57.354714Z"
    }
   },
   "outputs": [
    {
     "data": {
      "text/plain": [
       "array([[132.9211 ],\n",
       "       [111.97893],\n",
       "       [132.8013 ],\n",
       "       ...,\n",
       "       [152.207  ],\n",
       "       [132.26488],\n",
       "       [153.52962]], dtype=float32)"
      ]
     },
     "execution_count": 21,
     "metadata": {},
     "output_type": "execute_result"
    }
   ],
   "source": [
    "y_pred"
   ]
  },
  {
   "cell_type": "code",
   "execution_count": 22,
   "id": "6ff04940",
   "metadata": {
    "ExecuteTime": {
     "end_time": "2022-03-03T07:05:00.322952Z",
     "start_time": "2022-03-03T07:05:00.311113Z"
    }
   },
   "outputs": [
    {
     "data": {
      "text/html": [
       "<div>\n",
       "<style scoped>\n",
       "    .dataframe tbody tr th:only-of-type {\n",
       "        vertical-align: middle;\n",
       "    }\n",
       "\n",
       "    .dataframe tbody tr th {\n",
       "        vertical-align: top;\n",
       "    }\n",
       "\n",
       "    .dataframe thead th {\n",
       "        text-align: right;\n",
       "    }\n",
       "</style>\n",
       "<table border=\"1\" class=\"dataframe\">\n",
       "  <thead>\n",
       "    <tr style=\"text-align: right;\">\n",
       "      <th></th>\n",
       "      <th>TEY</th>\n",
       "    </tr>\n",
       "  </thead>\n",
       "  <tbody>\n",
       "    <tr>\n",
       "      <th>0</th>\n",
       "      <td>134.46</td>\n",
       "    </tr>\n",
       "    <tr>\n",
       "      <th>1</th>\n",
       "      <td>111.88</td>\n",
       "    </tr>\n",
       "    <tr>\n",
       "      <th>2</th>\n",
       "      <td>133.72</td>\n",
       "    </tr>\n",
       "    <tr>\n",
       "      <th>3</th>\n",
       "      <td>133.79</td>\n",
       "    </tr>\n",
       "    <tr>\n",
       "      <th>4</th>\n",
       "      <td>110.77</td>\n",
       "    </tr>\n",
       "    <tr>\n",
       "      <th>...</th>\n",
       "      <td>...</td>\n",
       "    </tr>\n",
       "    <tr>\n",
       "      <th>4507</th>\n",
       "      <td>134.08</td>\n",
       "    </tr>\n",
       "    <tr>\n",
       "      <th>4508</th>\n",
       "      <td>102.87</td>\n",
       "    </tr>\n",
       "    <tr>\n",
       "      <th>4509</th>\n",
       "      <td>155.96</td>\n",
       "    </tr>\n",
       "    <tr>\n",
       "      <th>4510</th>\n",
       "      <td>133.67</td>\n",
       "    </tr>\n",
       "    <tr>\n",
       "      <th>4511</th>\n",
       "      <td>156.32</td>\n",
       "    </tr>\n",
       "  </tbody>\n",
       "</table>\n",
       "<p>4512 rows × 1 columns</p>\n",
       "</div>"
      ],
      "text/plain": [
       "         TEY\n",
       "0     134.46\n",
       "1     111.88\n",
       "2     133.72\n",
       "3     133.79\n",
       "4     110.77\n",
       "...      ...\n",
       "4507  134.08\n",
       "4508  102.87\n",
       "4509  155.96\n",
       "4510  133.67\n",
       "4511  156.32\n",
       "\n",
       "[4512 rows x 1 columns]"
      ]
     },
     "execution_count": 22,
     "metadata": {},
     "output_type": "execute_result"
    }
   ],
   "source": [
    "y_test= y_test.reset_index(drop= True)\n",
    "y_test"
   ]
  },
  {
   "cell_type": "code",
   "execution_count": 23,
   "id": "3be0bab9",
   "metadata": {
    "ExecuteTime": {
     "end_time": "2022-03-03T07:05:04.119656Z",
     "start_time": "2022-03-03T07:05:04.111272Z"
    }
   },
   "outputs": [],
   "source": [
    "from sklearn.metrics import mean_squared_error, mean_absolute_error, r2_score"
   ]
  },
  {
   "cell_type": "code",
   "execution_count": 24,
   "id": "9e4a7473",
   "metadata": {
    "ExecuteTime": {
     "end_time": "2022-03-03T07:05:07.156397Z",
     "start_time": "2022-03-03T07:05:07.149626Z"
    }
   },
   "outputs": [
    {
     "data": {
      "text/plain": [
       "0.9808225589621826"
      ]
     },
     "execution_count": 24,
     "metadata": {},
     "output_type": "execute_result"
    }
   ],
   "source": [
    "r2_score(y_test, y_pred)"
   ]
  },
  {
   "cell_type": "code",
   "execution_count": 25,
   "id": "9f11de7f",
   "metadata": {
    "ExecuteTime": {
     "end_time": "2022-03-03T07:05:10.323375Z",
     "start_time": "2022-03-03T07:05:10.310313Z"
    }
   },
   "outputs": [
    {
     "data": {
      "text/plain": [
       "1.839261882863146"
      ]
     },
     "execution_count": 25,
     "metadata": {},
     "output_type": "execute_result"
    }
   ],
   "source": [
    "mean_absolute_error(y_test, y_pred)"
   ]
  },
  {
   "cell_type": "code",
   "execution_count": 26,
   "id": "8de9f19d",
   "metadata": {
    "ExecuteTime": {
     "end_time": "2022-03-03T07:05:13.321767Z",
     "start_time": "2022-03-03T07:05:13.300823Z"
    }
   },
   "outputs": [
    {
     "data": {
      "text/plain": [
       "4.839146250016986"
      ]
     },
     "execution_count": 26,
     "metadata": {},
     "output_type": "execute_result"
    }
   ],
   "source": [
    "mean_squared_error(y_test, y_pred)"
   ]
  },
  {
   "cell_type": "code",
   "execution_count": 27,
   "id": "69044102",
   "metadata": {
    "ExecuteTime": {
     "end_time": "2022-03-03T07:05:16.472060Z",
     "start_time": "2022-03-03T07:05:16.462975Z"
    }
   },
   "outputs": [],
   "source": [
    "pred_df= pd.DataFrame(y_pred, columns=[\"TEY\"])"
   ]
  },
  {
   "cell_type": "code",
   "execution_count": 28,
   "id": "42c31ab4",
   "metadata": {
    "ExecuteTime": {
     "end_time": "2022-03-03T07:05:21.575136Z",
     "start_time": "2022-03-03T07:05:21.544210Z"
    }
   },
   "outputs": [
    {
     "data": {
      "text/html": [
       "<div>\n",
       "<style scoped>\n",
       "    .dataframe tbody tr th:only-of-type {\n",
       "        vertical-align: middle;\n",
       "    }\n",
       "\n",
       "    .dataframe tbody tr th {\n",
       "        vertical-align: top;\n",
       "    }\n",
       "\n",
       "    .dataframe thead th {\n",
       "        text-align: right;\n",
       "    }\n",
       "</style>\n",
       "<table border=\"1\" class=\"dataframe\">\n",
       "  <thead>\n",
       "    <tr style=\"text-align: right;\">\n",
       "      <th></th>\n",
       "      <th>Actual_TEY</th>\n",
       "      <th>Pred_TEY</th>\n",
       "    </tr>\n",
       "  </thead>\n",
       "  <tbody>\n",
       "    <tr>\n",
       "      <th>0</th>\n",
       "      <td>134.46</td>\n",
       "      <td>132.921097</td>\n",
       "    </tr>\n",
       "    <tr>\n",
       "      <th>1</th>\n",
       "      <td>111.88</td>\n",
       "      <td>111.978928</td>\n",
       "    </tr>\n",
       "    <tr>\n",
       "      <th>2</th>\n",
       "      <td>133.72</td>\n",
       "      <td>132.801300</td>\n",
       "    </tr>\n",
       "    <tr>\n",
       "      <th>3</th>\n",
       "      <td>133.79</td>\n",
       "      <td>132.141708</td>\n",
       "    </tr>\n",
       "    <tr>\n",
       "      <th>4</th>\n",
       "      <td>110.77</td>\n",
       "      <td>111.761536</td>\n",
       "    </tr>\n",
       "  </tbody>\n",
       "</table>\n",
       "</div>"
      ],
      "text/plain": [
       "   Actual_TEY    Pred_TEY\n",
       "0      134.46  132.921097\n",
       "1      111.88  111.978928\n",
       "2      133.72  132.801300\n",
       "3      133.79  132.141708\n",
       "4      110.77  111.761536"
      ]
     },
     "execution_count": 28,
     "metadata": {},
     "output_type": "execute_result"
    }
   ],
   "source": [
    "cpm_df=pd.concat([y_test, pred_df], axis=1, ignore_index=False)\n",
    "cpm_df.columns= [\"Actual_TEY\", \"Pred_TEY\"]\n",
    "cpm_df.head()"
   ]
  },
  {
   "cell_type": "code",
   "execution_count": 29,
   "id": "c880a16f",
   "metadata": {
    "ExecuteTime": {
     "end_time": "2022-03-03T07:05:26.599500Z",
     "start_time": "2022-03-03T07:05:26.278582Z"
    }
   },
   "outputs": [
    {
     "data": {
      "text/plain": [
       "<matplotlib.collections.PathCollection at 0x1f51f603610>"
      ]
     },
     "execution_count": 29,
     "metadata": {},
     "output_type": "execute_result"
    },
    {
     "data": {
      "image/png": "[encoded data removed]",
      "text/plain": [
       "<Figure size 432x288 with 1 Axes>"
      ]
     },
     "metadata": {
      "needs_background": "light"
     },
     "output_type": "display_data"
    }
   ],
   "source": [
    "plt.xlabel(\"Actual Values\")\n",
    "plt.ylabel(\"Predicted values\")\n",
    "plt.title(\"Comparison of Actual and Predicted values\")\n",
    "plt.scatter(cpm_df.iloc[0:200, 0], cpm_df.iloc[0:200, 1])"
   ]
  }
 ],
 "metadata": {
  "kernelspec": {
   "display_name": "Python 3 (ipykernel)",
   "language": "python",
   "name": "python3"
  },
  "language_info": {
   "codemirror_mode": {
    "name": "ipython",
    "version": 3
   },
   "file_extension": ".py",
   "mimetype": "text/x-python",
   "name": "python",
   "nbconvert_exporter": "python",
   "pygments_lexer": "ipython3",
   "version": "3.9.7"
  }
 },
 "nbformat": 4,
 "nbformat_minor": 5
}
